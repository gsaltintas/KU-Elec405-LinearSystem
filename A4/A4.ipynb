{
 "cells": [
  {
   "cell_type": "code",
   "execution_count": 1,
   "metadata": {},
   "outputs": [],
   "source": [
    "using LinearAlgebra"
   ]
  },
  {
   "cell_type": "code",
   "execution_count": 3,
   "metadata": {},
   "outputs": [
    {
     "data": {
      "text/plain": [
       "s (generic function with 1 method)"
      ]
     },
     "execution_count": 3,
     "metadata": {},
     "output_type": "execute_result"
    }
   ],
   "source": [
    "c(t) = cos(t)\n",
    "s(t) = sin(t)"
   ]
  },
  {
   "cell_type": "code",
   "execution_count": 4,
   "metadata": {},
   "outputs": [
    {
     "data": {
      "text/plain": [
       "R (generic function with 1 method)"
      ]
     },
     "execution_count": 4,
     "metadata": {},
     "output_type": "execute_result"
    }
   ],
   "source": [
    "R(t) = [c(t) -s(t); s(t) c(t)]"
   ]
  },
  {
   "cell_type": "code",
   "execution_count": 18,
   "metadata": {},
   "outputs": [
    {
     "data": {
      "text/plain": [
       "eig_2 (generic function with 1 method)"
      ]
     },
     "execution_count": 18,
     "metadata": {},
     "output_type": "execute_result"
    }
   ],
   "source": [
    "v_1 = [1; -im]\n",
    "v_2 = [1; im]\n",
    "eig_1(θ) = ℯ^(im*θ)\n",
    "eig_2(θ) = ℯ^(-im*θ)"
   ]
  },
  {
   "cell_type": "code",
   "execution_count": 25,
   "metadata": {},
   "outputs": [
    {
     "name": "stdout",
     "output_type": "stream",
     "text": [
      "true\n",
      "true\n",
      "true\n",
      "true\n"
     ]
    }
   ],
   "source": [
    "println(R(π/4)*v_1 == eig_1(π/4)*v_1)\n",
    "println(R(π/4)*v_2 == eig_2(π/4)*v_2)\n",
    "\n",
    "println(R(π/3)*v_1 == eig_1(π/3)*v_1)\n",
    "println(R(π/3)*v_2 == eig_2(π/3)*v_2)\n"
   ]
  },
  {
   "cell_type": "code",
   "execution_count": 26,
   "metadata": {},
   "outputs": [
    {
     "data": {
      "text/plain": [
       "2×2 Array{Complex{Float64},2}:\n",
       " 0.5-0.0im  -0.0+0.5im\n",
       " 0.5+0.0im   0.0-0.5im"
      ]
     },
     "execution_count": 26,
     "metadata": {},
     "output_type": "execute_result"
    }
   ],
   "source": [
    "V = [v_1 v_2]\n",
    "V^(-1)"
   ]
  },
  {
   "cell_type": "code",
   "execution_count": 27,
   "metadata": {},
   "outputs": [
    {
     "data": {
      "text/plain": [
       "0.0 + 2.0im"
      ]
     },
     "execution_count": 27,
     "metadata": {},
     "output_type": "execute_result"
    }
   ],
   "source": [
    "det(V)"
   ]
  },
  {
   "cell_type": "code",
   "execution_count": 28,
   "metadata": {},
   "outputs": [
    {
     "data": {
      "text/plain": [
       "2×2 Array{Complex{Float64},2}:\n",
       " 1.0+0.0im  0.0+0.0im\n",
       " 0.0+0.0im  1.0+0.0im"
      ]
     },
     "execution_count": 28,
     "metadata": {},
     "output_type": "execute_result"
    }
   ],
   "source": [
    "V^(-1)*V"
   ]
  },
  {
   "cell_type": "code",
   "execution_count": 30,
   "metadata": {},
   "outputs": [
    {
     "data": {
      "text/plain": [
       "-2.0 - 3.6739403974420594e-16im"
      ]
     },
     "execution_count": 30,
     "metadata": {},
     "output_type": "execute_result"
    }
   ],
   "source": [
    "eig_2(π)-eig_2(2π)"
   ]
  },
  {
   "cell_type": "code",
   "execution_count": 31,
   "metadata": {},
   "outputs": [],
   "source": [
    "using Random"
   ]
  },
  {
   "cell_type": "code",
   "execution_count": 37,
   "metadata": {},
   "outputs": [
    {
     "ename": "ErrorException",
     "evalue": "syntax: { } vector syntax is discontinued",
     "output_type": "error",
     "traceback": [
      "syntax: { } vector syntax is discontinued",
      "",
      "Stacktrace:",
      " [1] top-level scope at C:\\Users\\HEWLETT-PACKARD\\.julia\\packages\\IJulia\\rWZ9e\\src\\kernel.jl:53"
     ]
    }
   ],
   "source": [
    "randn((10, 10), {Complex})"
   ]
  },
  {
   "cell_type": "code",
   "execution_count": 47,
   "metadata": {},
   "outputs": [
    {
     "data": {
      "text/plain": [
       "10×10 Array{Complex{Float64},2}:\n",
       " -0.0-0.745518im    -0.0-0.167121im   …  -0.0-0.0553895im   0.0+0.130084im\n",
       "  0.0+0.0866757im    0.0+0.425667im       0.0+0.268466im    0.0+2.09895im \n",
       "  0.0+0.377731im    -0.0-0.131273im       0.0+0.72154im    -0.0-0.422255im\n",
       " -0.0-0.134424im     0.0+0.253998im       0.0+0.582081im    0.0+1.21014im \n",
       "  0.0+0.869846im     0.0+0.954719im       0.0+0.456597im    0.0+0.849704im\n",
       "  0.0+0.00593951im   0.0+0.035686im   …  -0.0-0.063074im   -0.0-0.849979im\n",
       "  0.0+1.97469im      0.0+0.0231353im      0.0+0.0542586im   0.0+0.278425im\n",
       "  0.0+0.91762im     -0.0-0.102067im      -0.0-0.763726im    0.0+1.05643im \n",
       " -0.0-0.220173im     0.0+0.188416im      -0.0-1.79286im    -0.0-0.427134im\n",
       " -0.0-1.21629im     -0.0-1.51381im        0.0+0.556697im    0.0+1.99782im "
      ]
     },
     "execution_count": 47,
     "metadata": {},
     "output_type": "execute_result"
    }
   ],
   "source": [
    "U = randn((10, 10))\n",
    "Ui = randn((10, 10))*im"
   ]
  },
  {
   "cell_type": "code",
   "execution_count": 60,
   "metadata": {},
   "outputs": [
    {
     "data": {
      "text/plain": [
       "10×10 Diagonal{Complex{Float64},Array{Complex{Float64},1}}:\n",
       " 7.67948+0.0im          ⋅              ⋅      …          ⋅              ⋅    \n",
       "         ⋅      20.4103+0.0im          ⋅                 ⋅              ⋅    \n",
       "         ⋅              ⋅      4.13532+0.0im             ⋅              ⋅    \n",
       "         ⋅              ⋅              ⋅                 ⋅              ⋅    \n",
       "         ⋅              ⋅              ⋅                 ⋅              ⋅    \n",
       "         ⋅              ⋅              ⋅      …          ⋅              ⋅    \n",
       "         ⋅              ⋅              ⋅                 ⋅              ⋅    \n",
       "         ⋅              ⋅              ⋅                 ⋅              ⋅    \n",
       "         ⋅              ⋅              ⋅         15.0287+0.0im          ⋅    \n",
       "         ⋅              ⋅              ⋅                 ⋅      24.9011+0.0im"
      ]
     },
     "execution_count": 60,
     "metadata": {},
     "output_type": "execute_result"
    }
   ],
   "source": [
    "λ = Diagonal(eigvals(U + Ui))\n",
    "λ*λ'"
   ]
  },
  {
   "cell_type": "code",
   "execution_count": 63,
   "metadata": {},
   "outputs": [
    {
     "data": {
      "text/plain": [
       "10×10 Array{Complex{Float64},2}:\n",
       "   0.514325+0.0im           0.117616+0.0384192im  …     0.215592-0.151105im \n",
       " -0.0909965-0.138699im     -0.092379-0.520629im         0.338019-0.0825686im\n",
       " -0.0830327+0.0567406im    0.0782838+0.0217947im         0.32764+0.183575im \n",
       " -0.0915169-0.206709im    -0.0542347+0.130962im        0.0599138-0.275169im \n",
       "   0.272524+0.00336324im    0.168222-0.133557im         0.477488+0.0im      \n",
       "     0.3494+0.235396im      -0.10209+0.20129im    …    -0.200685-0.0312183im\n",
       "    0.14437-0.213599im      0.111877-0.0406575im        0.236394+0.111259im \n",
       "  -0.294589+0.134074im      0.256744-0.240916im      -0.00699479-0.232008im \n",
       "  -0.309798+0.297996im     -0.168537+0.0734152im       0.0764068-0.217759im \n",
       "   0.190939+0.0500145im      0.63985+0.0im              -0.31877-0.207377im "
      ]
     },
     "execution_count": 63,
     "metadata": {},
     "output_type": "execute_result"
    }
   ],
   "source": [
    "l = U+Ui\n",
    "eigvecs(l)"
   ]
  },
  {
   "cell_type": "code",
   "execution_count": 6,
   "metadata": {},
   "outputs": [
    {
     "data": {
      "text/plain": [
       "unitary_complex (generic function with 1 method)"
      ]
     },
     "execution_count": 6,
     "metadata": {},
     "output_type": "execute_result"
    }
   ],
   "source": [
    "using LinearAlgebra\n",
    "using Random\n",
    "\n",
    "function unitary_complex()\n",
    "    n = 10\n",
    "    # create a random Complex Matrix V\n",
    "    V = (randn((10, 10)) + randn((10, 10))*im)\n",
    "    # We will construct U from A via Gram Schmidt\n",
    "    # such that columns of U are orthogonal\n",
    "    U = V\n",
    "    for i in 2:n\n",
    "        v = V[:, i]\n",
    "        v_3 = v\n",
    "        for j in 1:i-1\n",
    "            v_2 = U[:, j]\n",
    "            v_3 -= dot(v_2, v) / dot(v_2, v_2) * v_2\n",
    "        end\n",
    "        U[:,i] = v_3\n",
    "    end\n",
    "    # normalize columns of U\n",
    "    for i in 1:n\n",
    "        U[:, i] /= dot(U[:, i], U[:, i]) ^.5\n",
    "    end\n",
    "    return U\n",
    "end"
   ]
  },
  {
   "cell_type": "code",
   "execution_count": 7,
   "metadata": {},
   "outputs": [
    {
     "data": {
      "text/plain": [
       "10×10 Array{Complex{Float64},2}:\n",
       "          1.0+0.0im          …  -1.11196e-15-1.01308e-15im\n",
       "  1.22818e-15+9.71445e-16im     -1.38778e-15-1.249e-15im  \n",
       "  8.32667e-17+9.09862e-16im      2.22045e-16-5.82867e-16im\n",
       " -9.99201e-16+1.18655e-15im     -6.52256e-16-6.59412e-16im\n",
       " -7.49401e-16+5.10009e-16im      9.71445e-17+3.747e-16im  \n",
       " -2.63678e-16-1.38778e-15im  …  -4.16334e-16+1.48492e-15im\n",
       "  8.32667e-16-1.9984e-15im      -1.66533e-16-5.55112e-17im\n",
       "  2.22045e-16+5.55112e-17im     -8.60423e-16-1.38778e-17im\n",
       " -2.16493e-15+2.77556e-16im     -2.77556e-16+9.78384e-16im\n",
       " -1.11196e-15+1.01308e-15im              1.0+0.0im        "
      ]
     },
     "execution_count": 7,
     "metadata": {},
     "output_type": "execute_result"
    }
   ],
   "source": [
    "U = unitary_complex()\n",
    "U*U'"
   ]
  },
  {
   "cell_type": "code",
   "execution_count": 120,
   "metadata": {},
   "outputs": [
    {
     "data": {
      "text/plain": [
       "1.0 + 0.0im"
      ]
     },
     "execution_count": 120,
     "metadata": {},
     "output_type": "execute_result"
    }
   ],
   "source": [
    "(A[:, 1]'A[:, 1])^(.5)"
   ]
  },
  {
   "cell_type": "code",
   "execution_count": 121,
   "metadata": {},
   "outputs": [
    {
     "data": {
      "text/plain": [
       "10-element Array{Complex{Float64},1}:\n",
       "   0.00588186942453325 + 0.014956760747053079im\n",
       "    0.1472889084313488 + 0.1482983603868711im  \n",
       "  -0.08273021519366731 + 0.007641654875694285im\n",
       "   0.05201373377362154 + 0.09166807329602403im \n",
       "  0.052449864309468554 + 0.10676983061891339im \n",
       "  0.012506173628264016 - 0.03020208943764794im \n",
       "   0.24031019096719916 + 0.6298407846248801im  \n",
       "    0.4376539357085536 - 0.2875181613081173im  \n",
       " -0.022107579948147604 - 0.09759088473237623im \n",
       "  -0.07454636301571074 - 0.4226095373323334im  "
      ]
     },
     "execution_count": 121,
     "metadata": {},
     "output_type": "execute_result"
    }
   ],
   "source": [
    "A[:, 1]"
   ]
  },
  {
   "cell_type": "code",
   "execution_count": 134,
   "metadata": {},
   "outputs": [
    {
     "data": {
      "text/plain": [
       "3"
      ]
     },
     "execution_count": 134,
     "metadata": {},
     "output_type": "execute_result"
    }
   ],
   "source": [
    "dot([1 1], [2 1])"
   ]
  },
  {
   "cell_type": "code",
   "execution_count": 10,
   "metadata": {},
   "outputs": [
    {
     "data": {
      "text/plain": [
       "true"
      ]
     },
     "execution_count": 10,
     "metadata": {},
     "output_type": "execute_result"
    }
   ],
   "source": [
    "a = 1/3\n",
    "a == 3*1/9"
   ]
  },
  {
   "cell_type": "code",
   "execution_count": 11,
   "metadata": {},
   "outputs": [
    {
     "data": {
      "text/plain": [
       "true"
      ]
     },
     "execution_count": 11,
     "metadata": {},
     "output_type": "execute_result"
    }
   ],
   "source": [
    "a = 3/28\n",
    "a == 3/28"
   ]
  },
  {
   "cell_type": "code",
   "execution_count": 16,
   "metadata": {},
   "outputs": [
    {
     "data": {
      "text/plain": [
       "1.1071428571428572"
      ]
     },
     "execution_count": 16,
     "metadata": {},
     "output_type": "execute_result"
    }
   ],
   "source": [
    "a+=1\n",
    "a"
   ]
  },
  {
   "cell_type": "code",
   "execution_count": 14,
   "metadata": {},
   "outputs": [
    {
     "data": {
      "text/plain": [
       "1.1071428571428572"
      ]
     },
     "execution_count": 14,
     "metadata": {},
     "output_type": "execute_result"
    }
   ],
   "source": [
    "3/28+1"
   ]
  },
  {
   "cell_type": "code",
   "execution_count": 17,
   "metadata": {},
   "outputs": [
    {
     "data": {
      "text/plain": [
       "1.1071428571428572"
      ]
     },
     "execution_count": 17,
     "metadata": {},
     "output_type": "execute_result"
    }
   ],
   "source": [
    "a"
   ]
  },
  {
   "cell_type": "code",
   "execution_count": null,
   "metadata": {},
   "outputs": [],
   "source": []
  }
 ],
 "metadata": {
  "kernelspec": {
   "display_name": "Julia 1.3.1",
   "language": "julia",
   "name": "julia-1.3"
  },
  "language_info": {
   "file_extension": ".jl",
   "mimetype": "application/julia",
   "name": "julia",
   "version": "1.3.1"
  }
 },
 "nbformat": 4,
 "nbformat_minor": 4
}
