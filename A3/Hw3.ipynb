{
 "cells": [
  {
   "cell_type": "code",
   "execution_count": 9,
   "metadata": {},
   "outputs": [],
   "source": [
    "using LinearAlgebra"
   ]
  },
  {
   "cell_type": "markdown",
   "metadata": {},
   "source": [
    "## Question 1"
   ]
  },
  {
   "cell_type": "code",
   "execution_count": 10,
   "metadata": {},
   "outputs": [
    {
     "data": {
      "text/plain": [
       "LU{Float64,Array{Float64,2}}\n",
       "L factor:\n",
       "3×3 Array{Float64,2}:\n",
       " 1.0        0.0  0.0\n",
       " 0.833333   1.0  0.0\n",
       " 0.333333  -0.0  1.0\n",
       "U factor:\n",
       "3×3 Array{Float64,2}:\n",
       " 6.0   30.0   36.0\n",
       " 0.0  -21.0  -28.0\n",
       " 0.0    0.0   -8.0"
      ]
     },
     "execution_count": 10,
     "metadata": {},
     "output_type": "execute_result"
    }
   ],
   "source": [
    "A = [6 30 36; 2 10 4; 5 4 2]\n",
    "L, U = factorize(A)\n",
    "factorize(A)"
   ]
  },
  {
   "cell_type": "code",
   "execution_count": 11,
   "metadata": {},
   "outputs": [
    {
     "data": {
      "text/plain": [
       "3×3 Array{Float64,2}:\n",
       " 6.0    0.0   0.0\n",
       " 5.0  -21.0   0.0\n",
       " 2.0   -0.0  -8.0"
      ]
     },
     "execution_count": 11,
     "metadata": {},
     "output_type": "execute_result"
    }
   ],
   "source": [
    "inv(L_1)"
   ]
  },
  {
   "cell_type": "code",
   "execution_count": 12,
   "metadata": {},
   "outputs": [
    {
     "data": {
      "text/plain": [
       "3×3 Array{Float64,2}:\n",
       "  0.666667  3.33333   5.33333\n",
       "  0.349206  1.74603   2.79365\n",
       " -0.458333  0.333333  1.08333"
      ]
     },
     "execution_count": 12,
     "metadata": {},
     "output_type": "execute_result"
    }
   ],
   "source": [
    "L_1=[1/6 0 0 ; 5/(6*21) -1/21 0; 2/(6*8) 0 -1/8]\n",
    "L_1*A\n",
    "\n",
    "L_2 = [1 0 0; 0 1 -1; 0 1 0]\n",
    "L_3 = [1 0 0; 0 1 -1; 0 0 1]\n",
    "L_1*(P*A)"
   ]
  },
  {
   "cell_type": "code",
   "execution_count": 13,
   "metadata": {},
   "outputs": [
    {
     "data": {
      "text/plain": [
       "3×3 Array{Float64,2}:\n",
       "  0.0         0.0        0.0     \n",
       "  0.00198413  0.0       -0.077381\n",
       " -0.00198413  0.077381   0.0     "
      ]
     },
     "execution_count": 13,
     "metadata": {},
     "output_type": "execute_result"
    }
   ],
   "source": [
    "P=[1 0 0; 0 0 1; 0 1 0]\n",
    "P*L_1-L_1*P"
   ]
  },
  {
   "cell_type": "code",
   "execution_count": 14,
   "metadata": {},
   "outputs": [
    {
     "data": {
      "text/plain": [
       "3×3 Array{Int64,2}:\n",
       " 1  0  0\n",
       " 0  0  1\n",
       " 0  1  0"
      ]
     },
     "execution_count": 14,
     "metadata": {},
     "output_type": "execute_result"
    }
   ],
   "source": [
    "row_exh = [1 0 0; 0 0 1; 0 1 0]\n",
    "row_exh"
   ]
  },
  {
   "cell_type": "code",
   "execution_count": 15,
   "metadata": {},
   "outputs": [
    {
     "data": {
      "text/plain": [
       "3-element Array{Float64,1}:\n",
       " 0.0\n",
       " 1.0\n",
       " 2.0"
      ]
     },
     "execution_count": 15,
     "metadata": {},
     "output_type": "execute_result"
    }
   ],
   "source": [
    "P=[1 -1 0; -1 1 0; 0 0 1]\n",
    "eigvals(P)"
   ]
  },
  {
   "cell_type": "code",
   "execution_count": 16,
   "metadata": {},
   "outputs": [
    {
     "data": {
      "text/plain": [
       "3×3 Array{Int64,2}:\n",
       "  1  -1  0\n",
       " -1   1  0\n",
       "  0   0  1"
      ]
     },
     "execution_count": 16,
     "metadata": {},
     "output_type": "execute_result"
    }
   ],
   "source": [
    "conj(P)"
   ]
  },
  {
   "cell_type": "code",
   "execution_count": 17,
   "metadata": {},
   "outputs": [
    {
     "data": {
      "text/plain": [
       "2×2 Array{Float64,2}:\n",
       "  0.125  1.0 \n",
       " -1.0    0.25"
      ]
     },
     "execution_count": 17,
     "metadata": {},
     "output_type": "execute_result"
    }
   ],
   "source": [
    "A=[1/8 1; -1 1/4]\n",
    "conj(A)"
   ]
  },
  {
   "cell_type": "code",
   "execution_count": 18,
   "metadata": {},
   "outputs": [
    {
     "data": {
      "text/plain": [
       "2×2 Array{Float64,2}:\n",
       " -0.984375   0.375 \n",
       " -0.375     -0.9375"
      ]
     },
     "execution_count": 18,
     "metadata": {},
     "output_type": "execute_result"
    }
   ],
   "source": [
    "A*conj(A)"
   ]
  },
  {
   "cell_type": "code",
   "execution_count": 19,
   "metadata": {},
   "outputs": [
    {
     "data": {
      "text/plain": [
       "0.1621049443313762"
      ]
     },
     "execution_count": 19,
     "metadata": {},
     "output_type": "execute_result"
    }
   ],
   "source": [
    "a=8\n",
    "1/a*(1*a)^(1/a)"
   ]
  },
  {
   "cell_type": "code",
   "execution_count": 20,
   "metadata": {},
   "outputs": [
    {
     "data": {
      "text/plain": [
       "6.172839506172839"
      ]
     },
     "execution_count": 20,
     "metadata": {},
     "output_type": "execute_result"
    }
   ],
   "source": [
    "1/0.162"
   ]
  },
  {
   "cell_type": "code",
   "execution_count": 22,
   "metadata": {},
   "outputs": [
    {
     "data": {
      "text/plain": [
       "0.1621049443313762"
      ]
     },
     "execution_count": 22,
     "metadata": {},
     "output_type": "execute_result"
    }
   ],
   "source": [
    "(1/8)^(7/8)"
   ]
  },
  {
   "cell_type": "markdown",
   "metadata": {},
   "source": [
    "# Question 3"
   ]
  },
  {
   "cell_type": "code",
   "execution_count": 27,
   "metadata": {},
   "outputs": [
    {
     "data": {
      "text/plain": [
       "4×4 Array{Int64,2}:\n",
       "  1  -1   2   0\n",
       "  0   1  -1   2\n",
       "  2   0   1  -1\n",
       " -1   2   0   1"
      ]
     },
     "execution_count": 27,
     "metadata": {},
     "output_type": "execute_result"
    }
   ],
   "source": [
    "H = [1 -1 2 0; 0 1 -1 2; 2 0 1 -1; -1 2 0 1]\n",
    "H"
   ]
  },
  {
   "cell_type": "code",
   "execution_count": 29,
   "metadata": {},
   "outputs": [
    {
     "data": {
      "text/plain": [
       "4-element Array{Complex{Float64},1}:\n",
       " -0.9999999999999996 - 0.9999999999999993im\n",
       " -0.9999999999999996 + 0.9999999999999993im\n",
       "  2.0000000000000004 + 0.0im               \n",
       "   4.000000000000001 + 0.0im               "
      ]
     },
     "execution_count": 29,
     "metadata": {},
     "output_type": "execute_result"
    }
   ],
   "source": [
    "eigvals(H)"
   ]
  },
  {
   "cell_type": "code",
   "execution_count": 35,
   "metadata": {},
   "outputs": [
    {
     "data": {
      "text/plain": [
       "4×4 Array{Complex{Float64},2}:\n",
       "          0.5-0.0im          …  0.5+0.0im   0.5+0.0im\n",
       " -2.22045e-16+0.5im             0.5+0.0im  -0.5+0.0im\n",
       "         -0.5+5.55112e-17im     0.5+0.0im   0.5+0.0im\n",
       "  1.66533e-16-0.5im             0.5+0.0im  -0.5+0.0im"
      ]
     },
     "execution_count": 35,
     "metadata": {},
     "output_type": "execute_result"
    }
   ],
   "source": [
    "eigvecs(H)"
   ]
  },
  {
   "cell_type": "code",
   "execution_count": 32,
   "metadata": {},
   "outputs": [
    {
     "data": {
      "text/plain": [
       "1.5308084989341915e-17 + 0.25im"
      ]
     },
     "execution_count": 32,
     "metadata": {},
     "output_type": "execute_result"
    }
   ],
   "source": [
    "n=4\n",
    "1/n*exp(2*im*π/n)"
   ]
  },
  {
   "cell_type": "code",
   "execution_count": 36,
   "metadata": {},
   "outputs": [
    {
     "data": {
      "text/plain": [
       "-0.25 + 3.061616997868383e-17im"
      ]
     },
     "execution_count": 36,
     "metadata": {},
     "output_type": "execute_result"
    }
   ],
   "source": [
    "1/n*exp(4*im*π/n)"
   ]
  },
  {
   "cell_type": "code",
   "execution_count": 41,
   "metadata": {},
   "outputs": [
    {
     "data": {
      "text/plain": [
       "4×4 Array{Complex{Float64},2}:\n",
       " 0.25+0.0im          0.25+0.0im          …          0.25+0.0im        \n",
       " 0.25+0.0im   1.53081e-17+0.25im            -4.59243e-17-0.25im       \n",
       " 0.25+0.0im         -0.25+3.06162e-17im            -0.25+9.18485e-17im\n",
       " 0.25+0.0im  -4.59243e-17-0.25im             1.37773e-16+0.25im       "
      ]
     },
     "execution_count": 41,
     "metadata": {},
     "output_type": "execute_result"
    }
   ],
   "source": [
    "f_k(k, l)=1/n*exp(2*im*π/n*(k-1)*(l-1))\n",
    "F = [f_k(1, 1) f_k(1, 2) f_k(1, 3) f_k(1, 4);\n",
    "    f_k(2, 1) f_k(2, 2) f_k(2, 3) f_k(2, 4);\n",
    "    f_k(3, 1) f_k(3, 2) f_k(3, 3) f_k(3, 4);\n",
    "    f_k(4, 1) f_k(4, 2) f_k(4, 3) f_k(4, 4)\n",
    "]\n",
    "F"
   ]
  },
  {
   "cell_type": "code",
   "execution_count": null,
   "metadata": {},
   "outputs": [],
   "source": []
  }
 ],
 "metadata": {
  "kernelspec": {
   "display_name": "Julia 1.3.1",
   "language": "julia",
   "name": "julia-1.3"
  },
  "language_info": {
   "file_extension": ".jl",
   "mimetype": "application/julia",
   "name": "julia",
   "version": "1.3.1"
  }
 },
 "nbformat": 4,
 "nbformat_minor": 4
}
